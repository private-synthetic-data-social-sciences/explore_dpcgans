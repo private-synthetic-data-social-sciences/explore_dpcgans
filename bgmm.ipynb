{
 "cells": [
  {
   "cell_type": "markdown",
   "metadata": {},
   "source": [
    "Assess performance of the Bayesian Mixture models with different datasets, variables and parameter values"
   ]
  },
  {
   "cell_type": "code",
   "execution_count": 309,
   "metadata": {},
   "outputs": [],
   "source": [
    "from sklearn.mixture import BayesianGaussianMixture, GaussianMixture\n",
    "import pandas as pd \n",
    "from matplotlib import pyplot as plt\n",
    "# from rdt.transformers import BayesGMMTransformer ## <-- implementation of the BGMM in the version of rdt in this package"
   ]
  },
  {
   "cell_type": "code",
   "execution_count": 310,
   "metadata": {},
   "outputs": [],
   "source": [
    "data_map = {\n",
    "    \"adult\": {\n",
    "        \"path\": \"../datasets/Adult/Real/real_adult_data.csv\",\n",
    "        \"numvars\": [\"fnlwgt\", \"hours-per-week\", \"education-num\", \"age\", \"capital-gain\", \"capital-loss\"] \n",
    "    },\n",
    "    \"census\": {\n",
    "        \"path\": \"../datasets/Census/Real/real_census_data.csv\",\n",
    "        \"numvars\": [\"age\", \"wage per hour\", \"capital gains\", \"capital losses\", \"dividends from stocks\", \"num persons worked for employer\", \"weeks worked in year\"]\n",
    "    },\n",
    "    \"intrusion\": {\n",
    "        \"path\": \"../datasets/Intrusion/Real/real_intrusion_data.csv\",\n",
    "        \"numvars\": [\"duration\", \"src_bytes\", \"dst_bytes\", \"wrong_fragment\", \"hot\", \"num_failed_logins\",\n",
    "                    \"num_compromised\", \"num_root\", \"num_file_creations\", \"num_access_files\",\n",
    "                    \"count\", \"srv_count\", \"serror_rate\", \"rerror_rate\", \"srv_rerror_rate\", \"same_srv_rate\",\n",
    "                    \"diff_srv_rate\", \"srv_diff_host_rate\"]\n",
    "    }\n",
    "}"
   ]
  },
  {
   "cell_type": "code",
   "execution_count": 311,
   "metadata": {},
   "outputs": [],
   "source": [
    "# set parameters here \n",
    "use_dataset = \"intrusion\"\n",
    "sample_size = 100_000"
   ]
  },
  {
   "cell_type": "markdown",
   "metadata": {},
   "source": [
    "Load data"
   ]
  },
  {
   "cell_type": "code",
   "execution_count": 312,
   "metadata": {},
   "outputs": [
    {
     "data": {
      "text/html": [
       "<div>\n",
       "<style scoped>\n",
       "    .dataframe tbody tr th:only-of-type {\n",
       "        vertical-align: middle;\n",
       "    }\n",
       "\n",
       "    .dataframe tbody tr th {\n",
       "        vertical-align: top;\n",
       "    }\n",
       "\n",
       "    .dataframe thead th {\n",
       "        text-align: right;\n",
       "    }\n",
       "</style>\n",
       "<table border=\"1\" class=\"dataframe\">\n",
       "  <thead>\n",
       "    <tr style=\"text-align: right;\">\n",
       "      <th></th>\n",
       "      <th>duration</th>\n",
       "      <th>src_bytes</th>\n",
       "      <th>dst_bytes</th>\n",
       "      <th>wrong_fragment</th>\n",
       "      <th>hot</th>\n",
       "      <th>num_failed_logins</th>\n",
       "      <th>logged_in</th>\n",
       "      <th>num_compromised</th>\n",
       "      <th>num_root</th>\n",
       "      <th>num_file_creations</th>\n",
       "      <th>num_access_files</th>\n",
       "      <th>count</th>\n",
       "      <th>srv_count</th>\n",
       "      <th>serror_rate</th>\n",
       "      <th>srv_serror_rate</th>\n",
       "      <th>rerror_rate</th>\n",
       "      <th>srv_rerror_rate</th>\n",
       "      <th>same_srv_rate</th>\n",
       "      <th>diff_srv_rate</th>\n",
       "      <th>srv_diff_host_rate</th>\n",
       "    </tr>\n",
       "  </thead>\n",
       "  <tbody>\n",
       "    <tr>\n",
       "      <th>count</th>\n",
       "      <td>100000.000000</td>\n",
       "      <td>1.000000e+05</td>\n",
       "      <td>1.000000e+05</td>\n",
       "      <td>100000.000000</td>\n",
       "      <td>100000.000000</td>\n",
       "      <td>100000.000000</td>\n",
       "      <td>100000.000000</td>\n",
       "      <td>100000.000000</td>\n",
       "      <td>100000.000000</td>\n",
       "      <td>100000.000000</td>\n",
       "      <td>100000.000000</td>\n",
       "      <td>100000.000000</td>\n",
       "      <td>100000.000000</td>\n",
       "      <td>100000.000000</td>\n",
       "      <td>100000.000000</td>\n",
       "      <td>100000.000000</td>\n",
       "      <td>100000.000000</td>\n",
       "      <td>100000.000000</td>\n",
       "      <td>100000.000000</td>\n",
       "      <td>100000.000000</td>\n",
       "    </tr>\n",
       "    <tr>\n",
       "      <th>mean</th>\n",
       "      <td>46.236360</td>\n",
       "      <td>1.265492e+03</td>\n",
       "      <td>9.487984e+02</td>\n",
       "      <td>0.006110</td>\n",
       "      <td>0.034870</td>\n",
       "      <td>0.000170</td>\n",
       "      <td>0.148450</td>\n",
       "      <td>0.007890</td>\n",
       "      <td>0.008080</td>\n",
       "      <td>0.001170</td>\n",
       "      <td>0.001050</td>\n",
       "      <td>331.619650</td>\n",
       "      <td>292.070390</td>\n",
       "      <td>0.175240</td>\n",
       "      <td>0.176190</td>\n",
       "      <td>0.056100</td>\n",
       "      <td>0.058330</td>\n",
       "      <td>0.771870</td>\n",
       "      <td>0.004860</td>\n",
       "      <td>0.016640</td>\n",
       "    </tr>\n",
       "    <tr>\n",
       "      <th>std</th>\n",
       "      <td>653.565637</td>\n",
       "      <td>3.964673e+04</td>\n",
       "      <td>3.612926e+04</td>\n",
       "      <td>0.130816</td>\n",
       "      <td>0.780871</td>\n",
       "      <td>0.017029</td>\n",
       "      <td>0.355547</td>\n",
       "      <td>0.892903</td>\n",
       "      <td>0.900357</td>\n",
       "      <td>0.114319</td>\n",
       "      <td>0.034481</td>\n",
       "      <td>213.206245</td>\n",
       "      <td>246.420555</td>\n",
       "      <td>0.380174</td>\n",
       "      <td>0.380984</td>\n",
       "      <td>0.230116</td>\n",
       "      <td>0.234368</td>\n",
       "      <td>0.419629</td>\n",
       "      <td>0.069544</td>\n",
       "      <td>0.127919</td>\n",
       "    </tr>\n",
       "    <tr>\n",
       "      <th>min</th>\n",
       "      <td>0.000000</td>\n",
       "      <td>0.000000e+00</td>\n",
       "      <td>0.000000e+00</td>\n",
       "      <td>0.000000</td>\n",
       "      <td>0.000000</td>\n",
       "      <td>0.000000</td>\n",
       "      <td>0.000000</td>\n",
       "      <td>0.000000</td>\n",
       "      <td>0.000000</td>\n",
       "      <td>0.000000</td>\n",
       "      <td>0.000000</td>\n",
       "      <td>1.000000</td>\n",
       "      <td>1.000000</td>\n",
       "      <td>0.000000</td>\n",
       "      <td>0.000000</td>\n",
       "      <td>0.000000</td>\n",
       "      <td>0.000000</td>\n",
       "      <td>0.000000</td>\n",
       "      <td>0.000000</td>\n",
       "      <td>0.000000</td>\n",
       "    </tr>\n",
       "    <tr>\n",
       "      <th>25%</th>\n",
       "      <td>0.000000</td>\n",
       "      <td>4.400000e+01</td>\n",
       "      <td>0.000000e+00</td>\n",
       "      <td>0.000000</td>\n",
       "      <td>0.000000</td>\n",
       "      <td>0.000000</td>\n",
       "      <td>0.000000</td>\n",
       "      <td>0.000000</td>\n",
       "      <td>0.000000</td>\n",
       "      <td>0.000000</td>\n",
       "      <td>0.000000</td>\n",
       "      <td>117.000000</td>\n",
       "      <td>10.000000</td>\n",
       "      <td>0.000000</td>\n",
       "      <td>0.000000</td>\n",
       "      <td>0.000000</td>\n",
       "      <td>0.000000</td>\n",
       "      <td>1.000000</td>\n",
       "      <td>0.000000</td>\n",
       "      <td>0.000000</td>\n",
       "    </tr>\n",
       "    <tr>\n",
       "      <th>50%</th>\n",
       "      <td>0.000000</td>\n",
       "      <td>5.200000e+02</td>\n",
       "      <td>0.000000e+00</td>\n",
       "      <td>0.000000</td>\n",
       "      <td>0.000000</td>\n",
       "      <td>0.000000</td>\n",
       "      <td>0.000000</td>\n",
       "      <td>0.000000</td>\n",
       "      <td>0.000000</td>\n",
       "      <td>0.000000</td>\n",
       "      <td>0.000000</td>\n",
       "      <td>510.000000</td>\n",
       "      <td>510.000000</td>\n",
       "      <td>0.000000</td>\n",
       "      <td>0.000000</td>\n",
       "      <td>0.000000</td>\n",
       "      <td>0.000000</td>\n",
       "      <td>1.000000</td>\n",
       "      <td>0.000000</td>\n",
       "      <td>0.000000</td>\n",
       "    </tr>\n",
       "    <tr>\n",
       "      <th>75%</th>\n",
       "      <td>0.000000</td>\n",
       "      <td>1.032000e+03</td>\n",
       "      <td>0.000000e+00</td>\n",
       "      <td>0.000000</td>\n",
       "      <td>0.000000</td>\n",
       "      <td>0.000000</td>\n",
       "      <td>0.000000</td>\n",
       "      <td>0.000000</td>\n",
       "      <td>0.000000</td>\n",
       "      <td>0.000000</td>\n",
       "      <td>0.000000</td>\n",
       "      <td>511.000000</td>\n",
       "      <td>511.000000</td>\n",
       "      <td>0.000000</td>\n",
       "      <td>0.000000</td>\n",
       "      <td>0.000000</td>\n",
       "      <td>0.000000</td>\n",
       "      <td>1.000000</td>\n",
       "      <td>0.000000</td>\n",
       "      <td>0.000000</td>\n",
       "    </tr>\n",
       "    <tr>\n",
       "      <th>max</th>\n",
       "      <td>40232.000000</td>\n",
       "      <td>5.135678e+06</td>\n",
       "      <td>5.151049e+06</td>\n",
       "      <td>3.000000</td>\n",
       "      <td>30.000000</td>\n",
       "      <td>4.000000</td>\n",
       "      <td>1.000000</td>\n",
       "      <td>281.000000</td>\n",
       "      <td>278.000000</td>\n",
       "      <td>22.000000</td>\n",
       "      <td>2.000000</td>\n",
       "      <td>511.000000</td>\n",
       "      <td>511.000000</td>\n",
       "      <td>1.000000</td>\n",
       "      <td>1.000000</td>\n",
       "      <td>1.000000</td>\n",
       "      <td>1.000000</td>\n",
       "      <td>1.000000</td>\n",
       "      <td>1.000000</td>\n",
       "      <td>1.000000</td>\n",
       "    </tr>\n",
       "  </tbody>\n",
       "</table>\n",
       "</div>"
      ],
      "text/plain": [
       "            duration     src_bytes     dst_bytes  wrong_fragment  \\\n",
       "count  100000.000000  1.000000e+05  1.000000e+05   100000.000000   \n",
       "mean       46.236360  1.265492e+03  9.487984e+02        0.006110   \n",
       "std       653.565637  3.964673e+04  3.612926e+04        0.130816   \n",
       "min         0.000000  0.000000e+00  0.000000e+00        0.000000   \n",
       "25%         0.000000  4.400000e+01  0.000000e+00        0.000000   \n",
       "50%         0.000000  5.200000e+02  0.000000e+00        0.000000   \n",
       "75%         0.000000  1.032000e+03  0.000000e+00        0.000000   \n",
       "max     40232.000000  5.135678e+06  5.151049e+06        3.000000   \n",
       "\n",
       "                 hot  num_failed_logins      logged_in  num_compromised  \\\n",
       "count  100000.000000      100000.000000  100000.000000    100000.000000   \n",
       "mean        0.034870           0.000170       0.148450         0.007890   \n",
       "std         0.780871           0.017029       0.355547         0.892903   \n",
       "min         0.000000           0.000000       0.000000         0.000000   \n",
       "25%         0.000000           0.000000       0.000000         0.000000   \n",
       "50%         0.000000           0.000000       0.000000         0.000000   \n",
       "75%         0.000000           0.000000       0.000000         0.000000   \n",
       "max        30.000000           4.000000       1.000000       281.000000   \n",
       "\n",
       "            num_root  num_file_creations  num_access_files          count  \\\n",
       "count  100000.000000       100000.000000     100000.000000  100000.000000   \n",
       "mean        0.008080            0.001170          0.001050     331.619650   \n",
       "std         0.900357            0.114319          0.034481     213.206245   \n",
       "min         0.000000            0.000000          0.000000       1.000000   \n",
       "25%         0.000000            0.000000          0.000000     117.000000   \n",
       "50%         0.000000            0.000000          0.000000     510.000000   \n",
       "75%         0.000000            0.000000          0.000000     511.000000   \n",
       "max       278.000000           22.000000          2.000000     511.000000   \n",
       "\n",
       "           srv_count    serror_rate  srv_serror_rate    rerror_rate  \\\n",
       "count  100000.000000  100000.000000    100000.000000  100000.000000   \n",
       "mean      292.070390       0.175240         0.176190       0.056100   \n",
       "std       246.420555       0.380174         0.380984       0.230116   \n",
       "min         1.000000       0.000000         0.000000       0.000000   \n",
       "25%        10.000000       0.000000         0.000000       0.000000   \n",
       "50%       510.000000       0.000000         0.000000       0.000000   \n",
       "75%       511.000000       0.000000         0.000000       0.000000   \n",
       "max       511.000000       1.000000         1.000000       1.000000   \n",
       "\n",
       "       srv_rerror_rate  same_srv_rate  diff_srv_rate  srv_diff_host_rate  \n",
       "count    100000.000000  100000.000000  100000.000000       100000.000000  \n",
       "mean          0.058330       0.771870       0.004860            0.016640  \n",
       "std           0.234368       0.419629       0.069544            0.127919  \n",
       "min           0.000000       0.000000       0.000000            0.000000  \n",
       "25%           0.000000       1.000000       0.000000            0.000000  \n",
       "50%           0.000000       1.000000       0.000000            0.000000  \n",
       "75%           0.000000       1.000000       0.000000            0.000000  \n",
       "max           1.000000       1.000000       1.000000            1.000000  "
      ]
     },
     "execution_count": 312,
     "metadata": {},
     "output_type": "execute_result"
    }
   ],
   "source": [
    "data = pd.read_csv(data_map[use_dataset][\"path\"])\n",
    "if \"Unnamed: 0\" in data.columns:\n",
    "    data = data.drop(columns=[\"Unnamed: 0\"])\n",
    "\n",
    "sample_size = min(data.shape[0], sample_size)\n",
    "data = data.sample(n=sample_size)\n",
    "data.describe()\n"
   ]
  },
  {
   "cell_type": "code",
   "execution_count": 313,
   "metadata": {},
   "outputs": [],
   "source": [
    "varnames = data_map[use_dataset][\"numvars\"]\n",
    "n = len(varnames)"
   ]
  },
  {
   "cell_type": "code",
   "execution_count": 314,
   "metadata": {},
   "outputs": [
    {
     "data": {
      "text/plain": [
       "[]"
      ]
     },
     "execution_count": 314,
     "metadata": {},
     "output_type": "execute_result"
    }
   ],
   "source": [
    "[v for v in varnames if v not in data.columns]"
   ]
  },
  {
   "cell_type": "code",
   "execution_count": 331,
   "metadata": {},
   "outputs": [
    {
     "data": {
      "image/png": "[encoded data removed]",
      "text/plain": [
       "<Figure size 1000x800 with 20 Axes>"
      ]
     },
     "metadata": {},
     "output_type": "display_data"
    }
   ],
   "source": [
    "nrows = 4\n",
    "if n % nrows == 0:\n",
    "    ncols = n / nrows \n",
    "else:    # print((rowid, colid))\n",
    "    ncols = n// nrows + 1\n",
    "fig, axs = plt.subplots(nrows, ncols, figsize=(10, 8))\n",
    "\n",
    "rowid = 0 \n",
    "colid = 0\n",
    "# Iterate over columns and rows to plot\n",
    "for i in range(ncols*nrows):\n",
    "    ax = axs[rowid, colid]\n",
    "\n",
    "    if i < len(varnames):\n",
    "        v = varnames[i]\n",
    "        ax.hist(data[v])\n",
    "        ax.title.set_text(v)  \n",
    "\n",
    "    ax.set_xticks([])\n",
    "    ax.set_yticks([])\n",
    "    ax.set_xticklabels([])\n",
    "    ax.set_yticklabels([])\n",
    "\n",
    "    if colid < ncols-1:\n",
    "        colid += 1\n",
    "    else:\n",
    "        rowid += 1\n",
    "        colid = 0\n",
    "        \n",
    "\n"
   ]
  },
  {
   "cell_type": "code",
   "execution_count": 177,
   "metadata": {},
   "outputs": [
    {
     "name": "stdout",
     "output_type": "stream",
     "text": [
      "['duration', 'src_bytes', 'dst_bytes', 'wrong_fragment', 'hot', 'num_failed_login', 'num_compromised', 'num_root', 'num_file_creations', 'num_access_files', 'count', 'srv_count', 'serror_rate', 'rerror_rate', 'srv_error_rate', 'same_srv_rate', 'diff_srv_rate', 'srv_diff_host_rate']\n"
     ]
    }
   ],
   "source": [
    "print(varnames)"
   ]
  },
  {
   "cell_type": "code",
   "execution_count": 324,
   "metadata": {},
   "outputs": [
    {
     "data": {
      "text/plain": [
       "count    100000.000000\n",
       "mean        331.619650\n",
       "std         213.206245\n",
       "min           1.000000\n",
       "25%         117.000000\n",
       "50%         510.000000\n",
       "75%         511.000000\n",
       "max         511.000000\n",
       "Name: count, dtype: float64"
      ]
     },
     "execution_count": 324,
     "metadata": {},
     "output_type": "execute_result"
    }
   ],
   "source": [
    "varname = \"count\"\n",
    "data[varname].describe()"
   ]
  },
  {
   "cell_type": "code",
   "execution_count": 179,
   "metadata": {},
   "outputs": [],
   "source": [
    "\n",
    "def fit_gmm(x, init_params=\"random\"):\n",
    "    gm = GaussianMixture(\n",
    "        n_components=3,\n",
    "        covariance_type='full',\n",
    "        n_init=5 , #10\n",
    "        max_iter=2000, #1000\n",
    "        warm_start=True,\n",
    "        init_params=init_params,\n",
    "    )\n",
    "    gm.fit(x.reshape(-1, 1))\n",
    "\n",
    "    valid_component_indicator = gm.weights_\n",
    "    # num_components = valid_component_indicator.sum()\n",
    "\n",
    "    return valid_component_indicator\n",
    "\n",
    "\n",
    "\n",
    "def fit_bgmm(x, init_params=\"random\"):\n",
    "    gm = BayesianGaussianMixture(\n",
    "        n_components=3,\n",
    "        covariance_type='full',\n",
    "        weight_concentration_prior_type='dirichlet_process',  # special for B-GMM\n",
    "        weight_concentration_prior=1e-3, # special\n",
    "        n_init=5 , #10\n",
    "        max_iter=2000, #1000\n",
    "        warm_start=True,\n",
    "        init_params=init_params,\n",
    "    )\n",
    "    gm.fit(x.reshape(-1, 1))\n",
    "\n",
    "    valid_component_indicator = gm.weights_\n",
    "    # num_components = valid_component_indicator.sum()\n",
    "\n",
    "    return valid_component_indicator\n",
    "\n",
    "def sequential_function(data, variables, init_params=\"random\"):\n",
    "    output = []\n",
    "    for v in variables:\n",
    "        x = data[v].values\n",
    "        output.append(fit_bgmm(x, init_params=init_params))\n",
    "    return output \n",
    "    \n"
   ]
  },
  {
   "cell_type": "markdown",
   "metadata": {},
   "source": [
    "### Notes \n",
    "- The routine uses all CPU cores already"
   ]
  },
  {
   "cell_type": "markdown",
   "metadata": {},
   "source": [
    "### Performance on a single variable"
   ]
  },
  {
   "cell_type": "code",
   "execution_count": 272,
   "metadata": {},
   "outputs": [
    {
     "data": {
      "text/plain": [
       "<Axes: >"
      ]
     },
     "execution_count": 272,
     "metadata": {},
     "output_type": "execute_result"
    },
    {
     "data": {
      "image/png": "[encoded data removed]",
      "text/plain": [
       "<Figure size 640x480 with 1 Axes>"
      ]
     },
     "metadata": {},
     "output_type": "display_data"
    }
   ],
   "source": [
    "data[varname].hist()"
   ]
  },
  {
   "cell_type": "code",
   "execution_count": 325,
   "metadata": {},
   "outputs": [
    {
     "data": {
      "text/plain": [
       "array([0.5288666 , 0.19067561, 0.28045779])"
      ]
     },
     "metadata": {},
     "output_type": "display_data"
    },
    {
     "data": {
      "text/plain": [
       "array([0.52886659, 0.28046777, 0.19066564])"
      ]
     },
     "metadata": {},
     "output_type": "display_data"
    },
    {
     "data": {
      "text/plain": [
       "'kmeans'"
      ]
     },
     "metadata": {},
     "output_type": "display_data"
    }
   ],
   "source": [
    "display(fit_bgmm(data[varname].values))\n",
    "display(fit_bgmm(data[varname].values), \"kmeans\")\n",
    "# display(fit_gmm(data[varname].values)) "
   ]
  },
  {
   "cell_type": "code",
   "execution_count": 326,
   "metadata": {},
   "outputs": [
    {
     "name": "stdout",
     "output_type": "stream",
     "text": [
      "8.8 s ± 0 ns per loop (mean ± std. dev. of 1 run, 1 loop each)\n"
     ]
    }
   ],
   "source": [
    "%timeit -r 1 -n 1 fit_bgmm(data[varname].values)"
   ]
  },
  {
   "cell_type": "code",
   "execution_count": 327,
   "metadata": {},
   "outputs": [
    {
     "name": "stdout",
     "output_type": "stream",
     "text": [
      "3.06 s ± 0 ns per loop (mean ± std. dev. of 1 run, 1 loop each)\n"
     ]
    }
   ],
   "source": [
    "%timeit -r 1 -n 1 fit_bgmm(data[varname].values, \"kmeans\") "
   ]
  },
  {
   "cell_type": "markdown",
   "metadata": {},
   "source": [
    "#### Comparing performance `init_params=\"kmeans\"` vs `init_params=\"random\"`\n",
    "- No clear winner, but\n",
    "    - it seems kmeans is often around the same speed (for \"easy\" variables with a single mode, or two clearly different modes) and faster for more difficult variables \n",
    "    - in particular, the \"fnlwgt\" and \"age\" variables in the datasets are those that take longer to fit, and here kmeans reaches a speedup of up to 50-60%\n",
    "- CTGAN uses the default initialization, which is \"kmeans\"\n",
    "- We're using version 0.24 of `scikit-learn`; however, the latest version is 1.3.1. It has more options, but I'm not sure it has an impact on performance\n",
    "    - https://scikit-learn.org/stable/modules/mixture.html#mixture: `kmeans++` may be faster\n"
   ]
  },
  {
   "cell_type": "markdown",
   "metadata": {},
   "source": [
    "### Performance on multiple variables, sequentially"
   ]
  },
  {
   "cell_type": "code",
   "execution_count": null,
   "metadata": {},
   "outputs": [],
   "source": []
  },
  {
   "cell_type": "code",
   "execution_count": 22,
   "metadata": {},
   "outputs": [
    {
     "name": "stdout",
     "output_type": "stream",
     "text": [
      "8.44 s ± 824 ms per loop (mean ± std. dev. of 7 runs, 1 loop each)\n"
     ]
    }
   ],
   "source": [
    "# %timeit sequential_function(data, varnames)"
   ]
  }
 ],
 "metadata": {
  "kernelspec": {
   "display_name": ".venv",
   "language": "python",
   "name": "python3"
  },
  "language_info": {
   "codemirror_mode": {
    "name": "ipython",
    "version": 3
   },
   "file_extension": ".py",
   "mimetype": "text/x-python",
   "name": "python",
   "nbconvert_exporter": "python",
   "pygments_lexer": "ipython3",
   "version": "3.8.10"
  },
  "orig_nbformat": 4
 },
 "nbformat": 4,
 "nbformat_minor": 2
}
