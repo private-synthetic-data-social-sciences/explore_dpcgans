{
 "cells": [
  {
   "cell_type": "markdown",
   "metadata": {},
   "source": [
    "Assess performance of the Bayesian Mixture models with different datasets, variables and parameter values"
   ]
  },
  {
   "cell_type": "code",
   "execution_count": 126,
   "metadata": {},
   "outputs": [],
   "source": [
    "from sklearn.mixture import BayesianGaussianMixture, GaussianMixture\n",
    "import pandas as pd \n",
    "from matplotlib import pyplot as plt\n",
    "# from rdt.transformers import BayesGMMTransformer ## <-- implementation of the BGMM in the version of rdt in this package"
   ]
  },
  {
   "cell_type": "code",
   "execution_count": 127,
   "metadata": {},
   "outputs": [],
   "source": [
    "data_map = {\n",
    "    \"adult\": {\n",
    "        \"path\": \"../datasets/Adult/Real/real_adult_data.csv\",\n",
    "        \"numvars\": [\"fnlwgt\", \"hours-per-week\", \"education-num\", \"age\", \"capital-gain\", \"capital-loss\"] \n",
    "    },\n",
    "    \"census\": {\n",
    "        \"path\": \"../datasets/Census/Real/real_census_data.csv\",\n",
    "        \"numvars\": [\"age\", \"wage per hour\", \"capital gains\", \"capital losses\", \"dividends from stocks\", \"num persons worked for employer\", \"weeks worked in year\"]\n",
    "    },\n",
    "    \"intrusion\": {\n",
    "        \"path\": \"../datasets/Intrusion/Real/real_intrusion_data.csv\",\n",
    "        \"numvars\": [\"duration\", \"src_bytes\", \"dst_bytes\", \"wrong_fragment\", \"hot\", \"num_failed_logins\",\n",
    "                    \"num_compromised\", \"num_root\", \"num_file_creations\", \"num_access_files\",\n",
    "                    \"count\", \"srv_count\", \"serror_rate\", \"rerror_rate\", \"srv_rerror_rate\", \"same_srv_rate\",\n",
    "                    \"diff_srv_rate\", \"srv_diff_host_rate\"]\n",
    "    }\n",
    "}"
   ]
  },
  {
   "cell_type": "code",
   "execution_count": 128,
   "metadata": {},
   "outputs": [],
   "source": [
    "# set parameters here \n",
    "use_dataset = \"adult\"\n",
    "sample_size = 100_000"
   ]
  },
  {
   "cell_type": "markdown",
   "metadata": {},
   "source": [
    "Load data"
   ]
  },
  {
   "cell_type": "code",
   "execution_count": 129,
   "metadata": {},
   "outputs": [
    {
     "data": {
      "text/html": [
       "<div>\n",
       "<style scoped>\n",
       "    .dataframe tbody tr th:only-of-type {\n",
       "        vertical-align: middle;\n",
       "    }\n",
       "\n",
       "    .dataframe tbody tr th {\n",
       "        vertical-align: top;\n",
       "    }\n",
       "\n",
       "    .dataframe thead th {\n",
       "        text-align: right;\n",
       "    }\n",
       "</style>\n",
       "<table border=\"1\" class=\"dataframe\">\n",
       "  <thead>\n",
       "    <tr style=\"text-align: right;\">\n",
       "      <th></th>\n",
       "      <th>age</th>\n",
       "      <th>fnlwgt</th>\n",
       "      <th>education-num</th>\n",
       "      <th>capital-gain</th>\n",
       "      <th>capital-loss</th>\n",
       "      <th>hours-per-week</th>\n",
       "    </tr>\n",
       "  </thead>\n",
       "  <tbody>\n",
       "    <tr>\n",
       "      <th>count</th>\n",
       "      <td>30162.000000</td>\n",
       "      <td>3.016200e+04</td>\n",
       "      <td>30162.000000</td>\n",
       "      <td>30162.000000</td>\n",
       "      <td>30162.000000</td>\n",
       "      <td>30162.000000</td>\n",
       "    </tr>\n",
       "    <tr>\n",
       "      <th>mean</th>\n",
       "      <td>38.437902</td>\n",
       "      <td>1.897938e+05</td>\n",
       "      <td>10.121312</td>\n",
       "      <td>1092.007858</td>\n",
       "      <td>88.372489</td>\n",
       "      <td>40.931238</td>\n",
       "    </tr>\n",
       "    <tr>\n",
       "      <th>std</th>\n",
       "      <td>13.134665</td>\n",
       "      <td>1.056530e+05</td>\n",
       "      <td>2.549995</td>\n",
       "      <td>7406.346497</td>\n",
       "      <td>404.298370</td>\n",
       "      <td>11.979984</td>\n",
       "    </tr>\n",
       "    <tr>\n",
       "      <th>min</th>\n",
       "      <td>17.000000</td>\n",
       "      <td>1.376900e+04</td>\n",
       "      <td>1.000000</td>\n",
       "      <td>0.000000</td>\n",
       "      <td>0.000000</td>\n",
       "      <td>1.000000</td>\n",
       "    </tr>\n",
       "    <tr>\n",
       "      <th>25%</th>\n",
       "      <td>28.000000</td>\n",
       "      <td>1.176272e+05</td>\n",
       "      <td>9.000000</td>\n",
       "      <td>0.000000</td>\n",
       "      <td>0.000000</td>\n",
       "      <td>40.000000</td>\n",
       "    </tr>\n",
       "    <tr>\n",
       "      <th>50%</th>\n",
       "      <td>37.000000</td>\n",
       "      <td>1.784250e+05</td>\n",
       "      <td>10.000000</td>\n",
       "      <td>0.000000</td>\n",
       "      <td>0.000000</td>\n",
       "      <td>40.000000</td>\n",
       "    </tr>\n",
       "    <tr>\n",
       "      <th>75%</th>\n",
       "      <td>47.000000</td>\n",
       "      <td>2.376285e+05</td>\n",
       "      <td>13.000000</td>\n",
       "      <td>0.000000</td>\n",
       "      <td>0.000000</td>\n",
       "      <td>45.000000</td>\n",
       "    </tr>\n",
       "    <tr>\n",
       "      <th>max</th>\n",
       "      <td>90.000000</td>\n",
       "      <td>1.484705e+06</td>\n",
       "      <td>16.000000</td>\n",
       "      <td>99999.000000</td>\n",
       "      <td>4356.000000</td>\n",
       "      <td>99.000000</td>\n",
       "    </tr>\n",
       "  </tbody>\n",
       "</table>\n",
       "</div>"
      ],
      "text/plain": [
       "                age        fnlwgt  education-num  capital-gain  capital-loss  \\\n",
       "count  30162.000000  3.016200e+04   30162.000000  30162.000000  30162.000000   \n",
       "mean      38.437902  1.897938e+05      10.121312   1092.007858     88.372489   \n",
       "std       13.134665  1.056530e+05       2.549995   7406.346497    404.298370   \n",
       "min       17.000000  1.376900e+04       1.000000      0.000000      0.000000   \n",
       "25%       28.000000  1.176272e+05       9.000000      0.000000      0.000000   \n",
       "50%       37.000000  1.784250e+05      10.000000      0.000000      0.000000   \n",
       "75%       47.000000  2.376285e+05      13.000000      0.000000      0.000000   \n",
       "max       90.000000  1.484705e+06      16.000000  99999.000000   4356.000000   \n",
       "\n",
       "       hours-per-week  \n",
       "count    30162.000000  \n",
       "mean        40.931238  \n",
       "std         11.979984  \n",
       "min          1.000000  \n",
       "25%         40.000000  \n",
       "50%         40.000000  \n",
       "75%         45.000000  \n",
       "max         99.000000  "
      ]
     },
     "execution_count": 129,
     "metadata": {},
     "output_type": "execute_result"
    }
   ],
   "source": [
    "data = pd.read_csv(data_map[use_dataset][\"path\"])\n",
    "if \"Unnamed: 0\" in data.columns:\n",
    "    data = data.drop(columns=[\"Unnamed: 0\"])\n",
    "\n",
    "sample_size = min(data.shape[0], sample_size)\n",
    "data = data.sample(n=sample_size)\n",
    "data.describe()\n"
   ]
  },
  {
   "cell_type": "code",
   "execution_count": 130,
   "metadata": {},
   "outputs": [],
   "source": [
    "varnames = data_map[use_dataset][\"numvars\"]\n",
    "n = len(varnames)"
   ]
  },
  {
   "cell_type": "code",
   "execution_count": 131,
   "metadata": {},
   "outputs": [
    {
     "data": {
      "text/plain": [
       "[]"
      ]
     },
     "execution_count": 131,
     "metadata": {},
     "output_type": "execute_result"
    }
   ],
   "source": [
    "[v for v in varnames if v not in data.columns]"
   ]
  },
  {
   "cell_type": "code",
   "execution_count": 132,
   "metadata": {},
   "outputs": [
    {
     "data": {
      "image/png": "[encoded data removed]",
      "text/plain": [
       "<Figure size 1000x800 with 8 Axes>"
      ]
     },
     "metadata": {},
     "output_type": "display_data"
    }
   ],
   "source": [
    "nrows = 4\n",
    "if n % nrows == 0:\n",
    "    ncols = n / nrows \n",
    "else:    # print((rowid, colid))\n",
    "    ncols = n// nrows + 1\n",
    "fig, axs = plt.subplots(nrows, ncols, figsize=(10, 8))\n",
    "\n",
    "rowid = 0 \n",
    "colid = 0\n",
    "# Iterate over columns and rows to plot\n",
    "for i in range(ncols*nrows):\n",
    "    ax = axs[rowid, colid]\n",
    "\n",
    "    if i < len(varnames):\n",
    "        v = varnames[i]\n",
    "        ax.hist(data[v])\n",
    "        ax.title.set_text(v)  \n",
    "\n",
    "    ax.set_xticks([])\n",
    "    ax.set_yticks([])\n",
    "    ax.set_xticklabels([])\n",
    "    ax.set_yticklabels([])\n",
    "\n",
    "    if colid < ncols-1:\n",
    "        colid += 1\n",
    "    else:\n",
    "        rowid += 1\n",
    "        colid = 0\n",
    "        \n",
    "\n"
   ]
  },
  {
   "cell_type": "code",
   "execution_count": 133,
   "metadata": {},
   "outputs": [
    {
     "name": "stdout",
     "output_type": "stream",
     "text": [
      "['fnlwgt', 'hours-per-week', 'education-num', 'age', 'capital-gain', 'capital-loss']\n"
     ]
    }
   ],
   "source": [
    "print(varnames)"
   ]
  },
  {
   "cell_type": "code",
   "execution_count": 134,
   "metadata": {},
   "outputs": [
    {
     "data": {
      "text/plain": [
       "count    30162.000000\n",
       "mean        38.437902\n",
       "std         13.134665\n",
       "min         17.000000\n",
       "25%         28.000000\n",
       "50%         37.000000\n",
       "75%         47.000000\n",
       "max         90.000000\n",
       "Name: age, dtype: float64"
      ]
     },
     "execution_count": 134,
     "metadata": {},
     "output_type": "execute_result"
    }
   ],
   "source": [
    "varname = \"age\"\n",
    "data[varname].describe()"
   ]
  },
  {
   "cell_type": "code",
   "execution_count": 135,
   "metadata": {},
   "outputs": [],
   "source": [
    "\n",
    "def fit_gmm(x, init_params=\"random\", covariance_type=\"full\", n_init=5):\n",
    "    gm = GaussianMixture(\n",
    "        n_components=3,\n",
    "        covariance_type=covariance_type,\n",
    "        n_init=n_init , #10\n",
    "        max_iter=2000, #1000\n",
    "        warm_start=True,\n",
    "        init_params=init_params,\n",
    "    )\n",
    "    gm.fit(x.reshape(-1, 1))\n",
    "\n",
    "    valid_component_indicator = gm.weights_\n",
    "    # num_components = valid_component_indicator.sum()\n",
    "\n",
    "    return valid_component_indicator\n",
    "\n",
    "\n",
    "\n",
    "def fit_bgmm(x, init_params=\"random\", covariance_type=\"full\", n_init=5):\n",
    "    gm = BayesianGaussianMixture(\n",
    "        n_components=3,\n",
    "        covariance_type=covariance_type,\n",
    "        weight_concentration_prior_type='dirichlet_process',  # special for B-GMM\n",
    "        weight_concentration_prior=1e-3, # special\n",
    "        n_init=n_init , #10\n",
    "        max_iter=2000, #1000\n",
    "        warm_start=True,\n",
    "        init_params=init_params,\n",
    "    )\n",
    "    gm.fit(x.reshape(-1, 1))\n",
    "\n",
    "    valid_component_indicator = gm.weights_\n",
    "    # num_components = valid_component_indicator.sum()\n",
    "\n",
    "    return valid_component_indicator\n",
    "\n",
    "def sequential_function(data, variables, init_params=\"random\"):\n",
    "    output = []\n",
    "    for v in variables:\n",
    "        x = data[v].values\n",
    "        output.append(fit_bgmm(x, init_params=init_params))\n",
    "    return output \n",
    "    \n"
   ]
  },
  {
   "cell_type": "markdown",
   "metadata": {},
   "source": [
    "### Notes \n",
    "- The routine uses all CPU cores already"
   ]
  },
  {
   "cell_type": "markdown",
   "metadata": {},
   "source": [
    "### Performance on a single variable"
   ]
  },
  {
   "cell_type": "code",
   "execution_count": 136,
   "metadata": {},
   "outputs": [
    {
     "data": {
      "text/plain": [
       "(30162, 15)"
      ]
     },
     "execution_count": 136,
     "metadata": {},
     "output_type": "execute_result"
    },
    {
     "data": {
      "image/png": "[encoded data removed]",
      "text/plain": [
       "<Figure size 640x480 with 1 Axes>"
      ]
     },
     "metadata": {},
     "output_type": "display_data"
    }
   ],
   "source": [
    "data[varname].hist()\n",
    "data.shape"
   ]
  },
  {
   "cell_type": "code",
   "execution_count": 83,
   "metadata": {},
   "outputs": [
    {
     "data": {
      "text/plain": [
       "array([0.49456284, 0.34564865, 0.1597885 ])"
      ]
     },
     "metadata": {},
     "output_type": "display_data"
    },
    {
     "data": {
      "text/plain": [
       "array([0.49460268, 0.34562005, 0.15977727])"
      ]
     },
     "metadata": {},
     "output_type": "display_data"
    },
    {
     "data": {
      "text/plain": [
       "array([0.16033597, 0.34643377, 0.49323026])"
      ]
     },
     "metadata": {},
     "output_type": "display_data"
    }
   ],
   "source": [
    "display(fit_bgmm(x=data[varname].values))\n",
    "display(fit_bgmm(x=data[varname].values, init_params=\"kmeans\"))\n",
    "display(fit_bgmm(x=data[varname].values, n_init=1))\n",
    "\n",
    "# display(fit_gmm(data[varname].values)) "
   ]
  },
  {
   "cell_type": "code",
   "execution_count": 44,
   "metadata": {},
   "outputs": [
    {
     "name": "stdout",
     "output_type": "stream",
     "text": [
      "3.28 s ± 0 ns per loop (mean ± std. dev. of 1 run, 1 loop each)\n"
     ]
    }
   ],
   "source": [
    "%timeit -r 1 -n 1 fit_bgmm(data[varname].values)"
   ]
  },
  {
   "cell_type": "code",
   "execution_count": 45,
   "metadata": {},
   "outputs": [
    {
     "name": "stdout",
     "output_type": "stream",
     "text": [
      "4.78 s ± 0 ns per loop (mean ± std. dev. of 1 run, 1 loop each)\n"
     ]
    }
   ],
   "source": [
    "%timeit -r 1 -n 1 fit_bgmm(data[varname].values, \"kmeans\") "
   ]
  },
  {
   "cell_type": "markdown",
   "metadata": {},
   "source": [
    "#### Comparing performance `init_params=\"kmeans\"` vs `init_params=\"random\"`\n",
    "- No clear winner, but\n",
    "    - it seems kmeans is often around the same speed (for \"easy\" variables with a single mode, or two clearly different modes) and faster for more difficult variables \n",
    "    - in particular, the \"fnlwgt\" and \"age\" variables in the datasets are those that take longer to fit, and here kmeans reaches a speedup of up to 50-60%\n",
    "- CTGAN uses the default initialization, which is \"kmeans\"\n",
    "- We're using version 0.24 of `scikit-learn`; however, the latest version is 1.3.1. It has more options, but I'm not sure it has an impact on performance\n",
    "    - https://scikit-learn.org/stable/modules/mixture.html#mixture: `kmeans++` may be faster\n",
    "- **Question**: how does this scale with the number of rows?\n",
    "    - 30'000 rows is still quite a small dataset\n"
   ]
  },
  {
   "cell_type": "markdown",
   "metadata": {},
   "source": [
    "#### Role of covariance type"
   ]
  },
  {
   "cell_type": "code",
   "execution_count": 140,
   "metadata": {},
   "outputs": [
    {
     "name": "stdout",
     "output_type": "stream",
     "text": [
      "15.5 s ± 3.52 s per loop (mean ± std. dev. of 10 runs, 1 loop each)\n"
     ]
    }
   ],
   "source": [
    "%timeit -r 10 -n 1 fit_bgmm(data[varname].values, init_params=\"random\", covariance_type=\"diag\") "
   ]
  },
  {
   "cell_type": "code",
   "execution_count": 55,
   "metadata": {},
   "outputs": [
    {
     "name": "stdout",
     "output_type": "stream",
     "text": [
      "17.2 s ± 1.87 s per loop (mean ± std. dev. of 10 runs, 1 loop each)\n"
     ]
    }
   ],
   "source": [
    "%timeit -r 10 -n 1 fit_bgmm(data[varname].values, init_params=\"random\", covariance_type=\"full\") "
   ]
  },
  {
   "cell_type": "code",
   "execution_count": 84,
   "metadata": {},
   "outputs": [
    {
     "name": "stdout",
     "output_type": "stream",
     "text": [
      "3.28 s ± 482 ms per loop (mean ± std. dev. of 10 runs, 1 loop each)\n"
     ]
    }
   ],
   "source": [
    "%timeit -r 10 -n 1 fit_bgmm(data[varname].values, init_params=\"random\", covariance_type=\"full\", n_init=1) "
   ]
  },
  {
   "cell_type": "markdown",
   "metadata": {},
   "source": [
    "Notes\n",
    "- for adult: \"hours-per-week\" is easy to fit, \"age\" is not \n",
    "- for \"age\", init_params=\"random\" and covariance_type \"diag\" takes 15.7s, with covariance_type \"full\" it takes 17.2s."
   ]
  },
  {
   "cell_type": "markdown",
   "metadata": {},
   "source": [
    "### Check the number of iterations\n"
   ]
  },
  {
   "cell_type": "code",
   "execution_count": 156,
   "metadata": {},
   "outputs": [],
   "source": [
    "gm = BayesianGaussianMixture(\n",
    "        n_components=5,\n",
    "        covariance_type=\"full\",\n",
    "        weight_concentration_prior_type='dirichlet_process',  # special for B-GMM\n",
    "        weight_concentration_prior=1e-3, # special\n",
    "        n_init=1 , #10\n",
    "        max_iter=2000, #1000\n",
    "        warm_start=True,\n",
    "        init_params=\"random\",\n",
    "    )"
   ]
  },
  {
   "cell_type": "code",
   "execution_count": 157,
   "metadata": {},
   "outputs": [],
   "source": [
    "model = gm.fit(data[varname].values.reshape(-1, 1))"
   ]
  },
  {
   "cell_type": "code",
   "execution_count": 158,
   "metadata": {},
   "outputs": [
    {
     "data": {
      "text/plain": [
       "1775"
      ]
     },
     "execution_count": 158,
     "metadata": {},
     "output_type": "execute_result"
    }
   ],
   "source": [
    "model.n_iter_"
   ]
  },
  {
   "cell_type": "code",
   "execution_count": 159,
   "metadata": {},
   "outputs": [
    {
     "data": {
      "text/plain": [
       "array([0.17643997, 0.05104389, 0.09223491, 0.32013609, 0.36014513])"
      ]
     },
     "execution_count": 159,
     "metadata": {},
     "output_type": "execute_result"
    }
   ],
   "source": [
    "model.weights_"
   ]
  },
  {
   "cell_type": "markdown",
   "metadata": {},
   "source": [
    "### Performance on multiple variables, sequentially"
   ]
  },
  {
   "cell_type": "code",
   "execution_count": null,
   "metadata": {},
   "outputs": [],
   "source": []
  },
  {
   "cell_type": "code",
   "execution_count": 22,
   "metadata": {},
   "outputs": [
    {
     "name": "stdout",
     "output_type": "stream",
     "text": [
      "8.44 s ± 824 ms per loop (mean ± std. dev. of 7 runs, 1 loop each)\n"
     ]
    }
   ],
   "source": [
    "# %timeit sequential_function(data, varnames)"
   ]
  }
 ],
 "metadata": {
  "kernelspec": {
   "display_name": ".venv",
   "language": "python",
   "name": "python3"
  },
  "language_info": {
   "codemirror_mode": {
    "name": "ipython",
    "version": 3
   },
   "file_extension": ".py",
   "mimetype": "text/x-python",
   "name": "python",
   "nbconvert_exporter": "python",
   "pygments_lexer": "ipython3",
   "version": "3.8.10"
  },
  "orig_nbformat": 4
 },
 "nbformat": 4,
 "nbformat_minor": 2
}
