{
 "cells": [
  {
   "cell_type": "markdown",
   "metadata": {},
   "source": [
    "Play around with the BayesianGaussianMixture models"
   ]
  },
  {
   "cell_type": "code",
   "execution_count": 47,
   "metadata": {},
   "outputs": [],
   "source": [
    "from sklearn.mixture import BayesianGaussianMixture\n",
    "import pandas as pd "
   ]
  },
  {
   "cell_type": "code",
   "execution_count": 48,
   "metadata": {},
   "outputs": [],
   "source": [
    "data = pd.read_csv(\"../datasets/Adult/Real/real_adult_data.csv\")\n",
    "data = data.drop(columns=[\"Unnamed: 0\"])\n",
    "data = data.sample(n=5000)\n"
   ]
  },
  {
   "cell_type": "code",
   "execution_count": 49,
   "metadata": {},
   "outputs": [
    {
     "data": {
      "text/html": [
       "<div>\n",
       "<style scoped>\n",
       "    .dataframe tbody tr th:only-of-type {\n",
       "        vertical-align: middle;\n",
       "    }\n",
       "\n",
       "    .dataframe tbody tr th {\n",
       "        vertical-align: top;\n",
       "    }\n",
       "\n",
       "    .dataframe thead th {\n",
       "        text-align: right;\n",
       "    }\n",
       "</style>\n",
       "<table border=\"1\" class=\"dataframe\">\n",
       "  <thead>\n",
       "    <tr style=\"text-align: right;\">\n",
       "      <th></th>\n",
       "      <th>age</th>\n",
       "      <th>workclass</th>\n",
       "      <th>fnlwgt</th>\n",
       "      <th>education</th>\n",
       "      <th>education-num</th>\n",
       "      <th>marital-status</th>\n",
       "      <th>occupation</th>\n",
       "      <th>relationship</th>\n",
       "      <th>race</th>\n",
       "      <th>sex</th>\n",
       "      <th>capital-gain</th>\n",
       "      <th>capital-loss</th>\n",
       "      <th>hours-per-week</th>\n",
       "      <th>native-country</th>\n",
       "      <th>label</th>\n",
       "    </tr>\n",
       "  </thead>\n",
       "  <tbody>\n",
       "    <tr>\n",
       "      <th>21005</th>\n",
       "      <td>31</td>\n",
       "      <td>Private</td>\n",
       "      <td>188096</td>\n",
       "      <td>Bachelors</td>\n",
       "      <td>13</td>\n",
       "      <td>Never-married</td>\n",
       "      <td>Prof-specialty</td>\n",
       "      <td>Not-in-family</td>\n",
       "      <td>White</td>\n",
       "      <td>Female</td>\n",
       "      <td>0</td>\n",
       "      <td>0</td>\n",
       "      <td>72</td>\n",
       "      <td>United-States</td>\n",
       "      <td>&gt;50K</td>\n",
       "    </tr>\n",
       "    <tr>\n",
       "      <th>4485</th>\n",
       "      <td>63</td>\n",
       "      <td>Private</td>\n",
       "      <td>151210</td>\n",
       "      <td>7th-8th</td>\n",
       "      <td>4</td>\n",
       "      <td>Divorced</td>\n",
       "      <td>Sales</td>\n",
       "      <td>Not-in-family</td>\n",
       "      <td>White</td>\n",
       "      <td>Female</td>\n",
       "      <td>0</td>\n",
       "      <td>0</td>\n",
       "      <td>40</td>\n",
       "      <td>United-States</td>\n",
       "      <td>&lt;=50K</td>\n",
       "    </tr>\n",
       "    <tr>\n",
       "      <th>1081</th>\n",
       "      <td>30</td>\n",
       "      <td>Private</td>\n",
       "      <td>285295</td>\n",
       "      <td>Bachelors</td>\n",
       "      <td>13</td>\n",
       "      <td>Married-civ-spouse</td>\n",
       "      <td>Other-service</td>\n",
       "      <td>Wife</td>\n",
       "      <td>Asian-Pac-Islander</td>\n",
       "      <td>Female</td>\n",
       "      <td>0</td>\n",
       "      <td>0</td>\n",
       "      <td>40</td>\n",
       "      <td>Philippines</td>\n",
       "      <td>&lt;=50K</td>\n",
       "    </tr>\n",
       "    <tr>\n",
       "      <th>24501</th>\n",
       "      <td>35</td>\n",
       "      <td>Private</td>\n",
       "      <td>28160</td>\n",
       "      <td>Bachelors</td>\n",
       "      <td>13</td>\n",
       "      <td>Married-spouse-absent</td>\n",
       "      <td>Exec-managerial</td>\n",
       "      <td>Unmarried</td>\n",
       "      <td>White</td>\n",
       "      <td>Female</td>\n",
       "      <td>0</td>\n",
       "      <td>0</td>\n",
       "      <td>40</td>\n",
       "      <td>United-States</td>\n",
       "      <td>&lt;=50K</td>\n",
       "    </tr>\n",
       "    <tr>\n",
       "      <th>2371</th>\n",
       "      <td>58</td>\n",
       "      <td>Private</td>\n",
       "      <td>354024</td>\n",
       "      <td>HS-grad</td>\n",
       "      <td>9</td>\n",
       "      <td>Married-civ-spouse</td>\n",
       "      <td>Adm-clerical</td>\n",
       "      <td>Wife</td>\n",
       "      <td>White</td>\n",
       "      <td>Female</td>\n",
       "      <td>0</td>\n",
       "      <td>0</td>\n",
       "      <td>40</td>\n",
       "      <td>United-States</td>\n",
       "      <td>&gt;50K</td>\n",
       "    </tr>\n",
       "  </tbody>\n",
       "</table>\n",
       "</div>"
      ],
      "text/plain": [
       "       age workclass  fnlwgt  education  education-num         marital-status  \\\n",
       "21005   31   Private  188096  Bachelors             13          Never-married   \n",
       "4485    63   Private  151210    7th-8th              4               Divorced   \n",
       "1081    30   Private  285295  Bachelors             13     Married-civ-spouse   \n",
       "24501   35   Private   28160  Bachelors             13  Married-spouse-absent   \n",
       "2371    58   Private  354024    HS-grad              9     Married-civ-spouse   \n",
       "\n",
       "            occupation   relationship                race     sex  \\\n",
       "21005   Prof-specialty  Not-in-family               White  Female   \n",
       "4485             Sales  Not-in-family               White  Female   \n",
       "1081     Other-service           Wife  Asian-Pac-Islander  Female   \n",
       "24501  Exec-managerial      Unmarried               White  Female   \n",
       "2371      Adm-clerical           Wife               White  Female   \n",
       "\n",
       "       capital-gain  capital-loss  hours-per-week native-country  label  \n",
       "21005             0             0              72  United-States   >50K  \n",
       "4485              0             0              40  United-States  <=50K  \n",
       "1081              0             0              40    Philippines  <=50K  \n",
       "24501             0             0              40  United-States  <=50K  \n",
       "2371              0             0              40  United-States   >50K  "
      ]
     },
     "execution_count": 49,
     "metadata": {},
     "output_type": "execute_result"
    }
   ],
   "source": [
    "data.head()"
   ]
  },
  {
   "cell_type": "code",
   "execution_count": 50,
   "metadata": {},
   "outputs": [
    {
     "data": {
      "text/plain": [
       "count    5000.000000\n",
       "mean       40.943600\n",
       "std        11.708007\n",
       "min         2.000000\n",
       "25%        40.000000\n",
       "50%        40.000000\n",
       "75%        45.000000\n",
       "max        99.000000\n",
       "Name: hours-per-week, dtype: float64"
      ]
     },
     "execution_count": 50,
     "metadata": {},
     "output_type": "execute_result"
    }
   ],
   "source": [
    "varname = \"hours-per-week\"\n",
    "data[varname].describe()"
   ]
  },
  {
   "cell_type": "code",
   "execution_count": 51,
   "metadata": {},
   "outputs": [],
   "source": [
    "\n",
    "def fit_bgmm(x):\n",
    "    gm = BayesianGaussianMixture(\n",
    "        n_components=3,\n",
    "        covariance_type='full',\n",
    "        weight_concentration_prior_type='dirichlet_process',  # special for B-GMM\n",
    "        weight_concentration_prior=1e-3, # special\n",
    "        n_init=5 , #10\n",
    "        max_iter=2000, #1000\n",
    "        warm_start=True,\n",
    "        init_params=\"random\",\n",
    "    )\n",
    "    gm.fit(x.reshape(-1, 1))\n",
    "\n",
    "    valid_component_indicator = gm.weights_\n",
    "    num_components = valid_component_indicator.sum()\n",
    "\n",
    "    return num_components\n",
    "\n",
    "def sequential_function(data, variables):\n",
    "    output = []\n",
    "    for v in variables:\n",
    "        x = data[v].values\n",
    "        output.append(fit_bgmm(x))\n",
    "    return output \n",
    "    \n"
   ]
  },
  {
   "cell_type": "code",
   "execution_count": 52,
   "metadata": {},
   "outputs": [],
   "source": [
    "varnames = [\"fnlwgt\", \"hours-per-week\", \"education-num\", \"age\", \"capital-gain\", \"capital-loss\"] \n",
    "# what is fnlwg? do we need that? -- seems very slow"
   ]
  },
  {
   "cell_type": "code",
   "execution_count": 53,
   "metadata": {},
   "outputs": [
    {
     "name": "stdout",
     "output_type": "stream",
     "text": [
      "15.9 s ± 619 ms per loop (mean ± std. dev. of 7 runs, 1 loop each)\n"
     ]
    }
   ],
   "source": [
    "%timeit sequential_function(data, varnames)"
   ]
  }
 ],
 "metadata": {
  "kernelspec": {
   "display_name": ".venv",
   "language": "python",
   "name": "python3"
  },
  "language_info": {
   "codemirror_mode": {
    "name": "ipython",
    "version": 3
   },
   "file_extension": ".py",
   "mimetype": "text/x-python",
   "name": "python",
   "nbconvert_exporter": "python",
   "pygments_lexer": "ipython3",
   "version": "3.8.10"
  },
  "orig_nbformat": 4
 },
 "nbformat": 4,
 "nbformat_minor": 2
}
